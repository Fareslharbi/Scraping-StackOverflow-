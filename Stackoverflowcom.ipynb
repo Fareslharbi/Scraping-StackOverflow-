{
 "cells": [
  {
   "cell_type": "code",
   "execution_count": 115,
   "id": "3401ff30",
   "metadata": {},
   "outputs": [],
   "source": [
    "import requests\n",
    "from requests_html import HTML\n",
    "import pandas as pd \n",
    "import time"
   ]
  },
  {
   "cell_type": "code",
   "execution_count": 8,
   "id": "5a39bad8",
   "metadata": {},
   "outputs": [
    {
     "name": "stdout",
     "output_type": "stream",
     "text": [
      "https://stackoverflow.com/questions/tagged/python?tab=Votes\n"
     ]
    }
   ],
   "source": [
    "base_url = 'https://stackoverflow.com/questions/tagged/'\n",
    "tag = 'python'\n",
    "query_filter = 'Votes'\n",
    "url = f'{base_url}{tag}?tab={query_filter}'\n",
    "print(url)"
   ]
  },
  {
   "cell_type": "code",
   "execution_count": 10,
   "id": "cea7c36f",
   "metadata": {},
   "outputs": [],
   "source": [
    "r = requests.get(url)\n",
    "html_str = r.text\n",
    "html = HTML(html=html_str)"
   ]
  },
  {
   "cell_type": "code",
   "execution_count": 20,
   "id": "7f052a42",
   "metadata": {},
   "outputs": [],
   "source": [
    "# html = HTML(html=html_str)"
   ]
  },
  {
   "cell_type": "code",
   "execution_count": 21,
   "id": "142611d0",
   "metadata": {},
   "outputs": [
    {
     "name": "stdout",
     "output_type": "stream",
     "text": [
      "[<Element 'div' id='question-summary-231767' class=('s-post-summary', 'js-post-summary') data-post-id='231767' data-post-type-id='1'>, <Element 'div' id='question-summary-419163' class=('s-post-summary', 'js-post-summary') data-post-id='419163' data-post-type-id='1'>, <Element 'div' id='question-summary-394809' class=('s-post-summary', 'js-post-summary') data-post-id='394809' data-post-type-id='1'>, <Element 'div' id='question-summary-100003' class=('s-post-summary', 'js-post-summary') data-post-id='100003' data-post-type-id='1'>, <Element 'div' id='question-summary-82831' class=('s-post-summary', 'js-post-summary') data-post-id='82831' data-post-type-id='1'>, <Element 'div' id='question-summary-38987' class=('s-post-summary', 'js-post-summary') data-post-id='38987' data-post-type-id='1'>, <Element 'div' id='question-summary-89228' class=('s-post-summary', 'js-post-summary') data-post-id='89228' data-post-type-id='1'>, <Element 'div' id='question-summary-273192' class=('s-post-summary', 'js-post-summary') data-post-id='273192' data-post-type-id='1'>, <Element 'div' id='question-summary-522563' class=('s-post-summary', 'js-post-summary') data-post-id='522563' data-post-type-id='1'>, <Element 'div' id='question-summary-952914' class=('s-post-summary', 'js-post-summary') data-post-id='952914' data-post-type-id='1'>, <Element 'div' id='question-summary-136097' class=('s-post-summary', 'js-post-summary') data-post-id='136097' data-post-type-id='1'>, <Element 'div' id='question-summary-509211' class=('s-post-summary', 'js-post-summary') data-post-id='509211' data-post-type-id='1'>, <Element 'div' id='question-summary-176918' class=('s-post-summary', 'js-post-summary') data-post-id='176918' data-post-type-id='1'>, <Element 'div' id='question-summary-3294889' class=('s-post-summary', 'js-post-summary') data-post-id='3294889' data-post-type-id='1'>, <Element 'div' id='question-summary-423379' class=('s-post-summary', 'js-post-summary') data-post-id='423379' data-post-type-id='1'>, <Element 'div' id='question-summary-16476924' class=('s-post-summary', 'js-post-summary') data-post-id='16476924' data-post-type-id='1'>, <Element 'div' id='question-summary-415511' class=('s-post-summary', 'js-post-summary') data-post-id='415511' data-post-type-id='1'>, <Element 'div' id='question-summary-6470428' class=('s-post-summary', 'js-post-summary') data-post-id='6470428' data-post-type-id='1'>, <Element 'div' id='question-summary-3437059' class=('s-post-summary', 'js-post-summary') data-post-id='3437059' data-post-type-id='1'>, <Element 'div' id='question-summary-1436703' class=('s-post-summary', 'js-post-summary') data-post-id='1436703' data-post-type-id='1'>, <Element 'div' id='question-summary-606191' class=('s-post-summary', 'js-post-summary') data-post-id='606191' data-post-type-id='1'>, <Element 'div' id='question-summary-123198' class=('s-post-summary', 'js-post-summary') data-post-id='123198' data-post-type-id='1'>, <Element 'div' id='question-summary-3207219' class=('s-post-summary', 'js-post-summary') data-post-id='3207219' data-post-type-id='1'>, <Element 'div' id='question-summary-448271' class=('s-post-summary', 'js-post-summary') data-post-id='448271' data-post-type-id='1'>, <Element 'div' id='question-summary-613183' class=('s-post-summary', 'js-post-summary') data-post-id='613183' data-post-type-id='1'>, <Element 'div' id='question-summary-1024847' class=('s-post-summary', 'js-post-summary') data-post-id='1024847' data-post-type-id='1'>, <Element 'div' id='question-summary-1132941' class=('s-post-summary', 'js-post-summary') data-post-id='1132941' data-post-type-id='1'>, <Element 'div' id='question-summary-1720421' class=('s-post-summary', 'js-post-summary') data-post-id='1720421' data-post-type-id='1'>, <Element 'div' id='question-summary-17071871' class=('s-post-summary', 'js-post-summary') data-post-id='17071871' data-post-type-id='1'>, <Element 'div' id='question-summary-53513' class=('s-post-summary', 'js-post-summary') data-post-id='53513' data-post-type-id='1'>, <Element 'div' id='question-summary-36901' class=('s-post-summary', 'js-post-summary') data-post-id='36901' data-post-type-id='1'>, <Element 'div' id='question-summary-986006' class=('s-post-summary', 'js-post-summary') data-post-id='986006' data-post-type-id='1'>, <Element 'div' id='question-summary-2612802' class=('s-post-summary', 'js-post-summary') data-post-id='2612802' data-post-type-id='1'>, <Element 'div' id='question-summary-510348' class=('s-post-summary', 'js-post-summary') data-post-id='510348' data-post-type-id='1'>, <Element 'div' id='question-summary-6996603' class=('s-post-summary', 'js-post-summary') data-post-id='6996603' data-post-type-id='1'>, <Element 'div' id='question-summary-252703' class=('s-post-summary', 'js-post-summary') data-post-id='252703' data-post-type-id='1'>, <Element 'div' id='question-summary-576169' class=('s-post-summary', 'js-post-summary') data-post-id='576169' data-post-type-id='1'>, <Element 'div' id='question-summary-739654' class=('s-post-summary', 'js-post-summary') data-post-id='739654' data-post-type-id='1'>, <Element 'div' id='question-summary-332289' class=('s-post-summary', 'js-post-summary') data-post-id='332289' data-post-type-id='1'>, <Element 'div' id='question-summary-2052390' class=('s-post-summary', 'js-post-summary') data-post-id='2052390' data-post-type-id='1'>, <Element 'div' id='question-summary-287871' class=('s-post-summary', 'js-post-summary') data-post-id='287871' data-post-type-id='1'>, <Element 'div' id='question-summary-312443' class=('s-post-summary', 'js-post-summary') data-post-id='312443' data-post-type-id='1'>, <Element 'div' id='question-summary-4906977' class=('s-post-summary', 'js-post-summary') data-post-id='4906977' data-post-type-id='1'>, <Element 'div' id='question-summary-466345' class=('s-post-summary', 'js-post-summary') data-post-id='466345' data-post-type-id='1'>, <Element 'div' id='question-summary-30081275' class=('s-post-summary', 'js-post-summary') data-post-id='30081275' data-post-type-id='1'>, <Element 'div' id='question-summary-5137497' class=('s-post-summary', 'js-post-summary') data-post-id='5137497' data-post-type-id='1'>, <Element 'div' id='question-summary-11346283' class=('s-post-summary', 'js-post-summary') data-post-id='11346283' data-post-type-id='1'>, <Element 'div' id='question-summary-11277432' class=('s-post-summary', 'js-post-summary') data-post-id='11277432' data-post-type-id='1'>, <Element 'div' id='question-summary-1602934' class=('s-post-summary', 'js-post-summary') data-post-id='1602934' data-post-type-id='1'>, <Element 'div' id='question-summary-379906' class=('s-post-summary', 'js-post-summary') data-post-id='379906' data-post-type-id='1'>]\n"
     ]
    }
   ],
   "source": [
    "\n",
    "questions_summaries = html.find('.s-post-summary.js-post-summary') # selenium\n",
    "questions_classes = html.find('.s-link') # selenium\n",
    "print(questions_summaries)"
   ]
  },
  {
   "cell_type": "code",
   "execution_count": 51,
   "id": "9a36d60d",
   "metadata": {},
   "outputs": [
    {
     "name": "stdout",
     "output_type": "stream",
     "text": [
      "12446 votes\n",
      "51 answers\n",
      "3.1m views\n",
      "What does the \"yield\" keyword do?\n",
      "What is the use of the yield keyword in Python? What does it do? For example, I'm trying to understand this code1: def _get_child_candidates(self, distance, min_dist, max_dist): if self._leftchild ...\n",
      "python\n",
      "iterator\n",
      "generator\n",
      "Alex. S.\n",
      "140k\n",
      "asked Oct 23, 2008 at 22:21\n"
     ]
    },
    {
     "data": {
      "text/plain": [
       "'12446 votes\\n51 answers\\n3.1m views\\nWhat does the \"yield\" keyword do?\\nWhat is the use of the yield keyword in Python? What does it do? For example, I\\'m trying to understand this code1: def _get_child_candidates(self, distance, min_dist, max_dist): if self._leftchild ...\\npython\\niterator\\ngenerator\\nAlex. S.\\n140k\\nasked Oct 23, 2008 at 22:21'"
      ]
     },
     "execution_count": 51,
     "metadata": {},
     "output_type": "execute_result"
    }
   ],
   "source": [
    "print(questions_summaries[0].text)\n",
    "questions_summaries[0].text"
   ]
  },
  {
   "cell_type": "code",
   "execution_count": 47,
   "id": "bc20c83b",
   "metadata": {},
   "outputs": [],
   "source": [
    "columns = ['votes', 'num_answer', 'views', 'questions', 'short_desc', 'tags','tag1', 'tag2', 'user', 'user_details', 'date']"
   ]
  },
  {
   "cell_type": "code",
   "execution_count": 48,
   "id": "c8ce15f7",
   "metadata": {},
   "outputs": [
    {
     "name": "stdout",
     "output_type": "stream",
     "text": [
      "['12446 votes', '51 answers', '3.1m views', 'What does the \"yield\" keyword do?', \"What is the use of the yield keyword in Python? What does it do? For example, I'm trying to understand this code1: def _get_child_candidates(self, distance, min_dist, max_dist): if self._leftchild ...\", 'python', 'iterator', 'generator', 'Alex. S.', '140k', 'asked Oct 23, 2008 at 22:21']\n"
     ]
    }
   ],
   "source": [
    "# this_row = list(questions_summaries[0].text.split('\\n'))\n",
    "# print(this_row)"
   ]
  },
  {
   "cell_type": "code",
   "execution_count": 49,
   "id": "ca555c21",
   "metadata": {},
   "outputs": [
    {
     "data": {
      "text/plain": [
       "True"
      ]
     },
     "execution_count": 49,
     "metadata": {},
     "output_type": "execute_result"
    }
   ],
   "source": [
    "# len(this_row) == len(columns)"
   ]
  },
  {
   "cell_type": "code",
   "execution_count": 50,
   "id": "42f27711",
   "metadata": {},
   "outputs": [
    {
     "name": "stdout",
     "output_type": "stream",
     "text": [
      "{'votes': '12446 votes', 'num_answer': '51 answers', 'views': '3.1m views', 'questions': 'What does the \"yield\" keyword do?', 'short_desc': \"What is the use of the yield keyword in Python? What does it do? For example, I'm trying to understand this code1: def _get_child_candidates(self, distance, min_dist, max_dist): if self._leftchild ...\", 'tags': 'python', 'tag1': 'iterator', 'tag2': 'generator', 'user': 'Alex. S.', 'user_details': '140k', 'date': 'asked Oct 23, 2008 at 22:21'}\n"
     ]
    }
   ],
   "source": [
    "# row_data = dict(zip(columns, this_row))\n",
    "# print(row_data)"
   ]
  },
  {
   "cell_type": "code",
   "execution_count": 89,
   "id": "7297a887",
   "metadata": {},
   "outputs": [
    {
     "name": "stdout",
     "output_type": "stream",
     "text": [
      "12446 votes\n",
      "12446\n"
     ]
    }
   ],
   "source": [
    "key_names = ['question', 'votes', 'tags']\n",
    "classes_needed = ['.s-link', '.s-post-summary--stats-item.s-post-summary--stats-item__emphasized', '.ml0.list-ls-none.js-post-tag-list-wrapper.d-inline']\n",
    "this_question_element = questions_summaries[0]\n",
    "q = this_question_element.find('.s-post-summary--stats-item.s-post-summary--stats-item__emphasized', first=True).text\n",
    "print(q)\n",
    "q1 = q.replace(' votes', '')\n",
    "print(q1)\n"
   ]
  },
  {
   "cell_type": "code",
   "execution_count": 122,
   "id": "ffcc827f",
   "metadata": {},
   "outputs": [],
   "source": [
    "def clean_scraped_data(text, key_name=None):\n",
    "    if key_name == 'votes':\n",
    "        return text.replace(' votes', '')\n",
    "    if key_name == 'tags':\n",
    "        return text.replace('\\n', ' ')\n",
    "    return text"
   ]
  },
  {
   "cell_type": "code",
   "execution_count": 123,
   "id": "f335d116",
   "metadata": {},
   "outputs": [],
   "source": [
    "datas = []\n",
    "\n",
    "for q_el in questions_summaries:\n",
    "    question_data = {}\n",
    "    for i, _class in enumerate(classes_needed):\n",
    "        sub_el = q_el.find(_class, first=True) \n",
    "        # print(sub_el.text)\n",
    "        keyname = key_names[i]\n",
    "        question_data[keyname] = clean_scraped_data(sub_el.text, key_name=keyname)\n",
    "    datas.append(question_data)\n"
   ]
  },
  {
   "cell_type": "code",
   "execution_count": 124,
   "id": "69a3a2d7",
   "metadata": {},
   "outputs": [],
   "source": [
    "# datas[0]"
   ]
  },
  {
   "cell_type": "code",
   "execution_count": 125,
   "id": "bacb973f",
   "metadata": {},
   "outputs": [],
   "source": [
    "def parse_tagged_page(html):\n",
    "    questions_summaries = html.find('.s-post-summary.js-post-summary')\n",
    "    key_names = ['question', 'votes', 'tags']\n",
    "    classes_needed = ['.s-link', '.s-post-summary--stats-item.s-post-summary--stats-item__emphasized', '.ml0.list-ls-none.js-post-tag-list-wrapper.d-inline']\n",
    "    datas = []\n",
    "    for q_el in questions_summaries:\n",
    "        question_data = {}\n",
    "        for i, _class in enumerate(classes_needed):\n",
    "            sub_el = q_el.find(_class, first=True) \n",
    "            # print(sub_el.text)\n",
    "            keyname = key_names[i]\n",
    "            question_data[keyname] = clean_scraped_data(sub_el.text, key_name=keyname)\n",
    "        datas.append(question_data)\n",
    "    return datas"
   ]
  },
  {
   "cell_type": "code",
   "execution_count": 126,
   "id": "aedbce1f",
   "metadata": {},
   "outputs": [],
   "source": [
    "def extract_data_from_url(url):\n",
    "    r = requests.get(url)\n",
    "    if r.status_code not in range(200, 299):\n",
    "        return []\n",
    "    html_str = r.text\n",
    "    html = HTML(html=html_str)\n",
    "    datas = parse_tagged_page(html)\n",
    "    return datas"
   ]
  },
  {
   "cell_type": "code",
   "execution_count": 127,
   "id": "5b48f816",
   "metadata": {},
   "outputs": [],
   "source": [
    "def scrape_tag(tag= 'python', query_filter= 'Votes', max_pages=50, pagesize=15):\n",
    "    base_url = 'https://stackoverflow.com/questions/tagged/'\n",
    "    datas = []\n",
    "    for p in range(max_pages):\n",
    "        # print(p)\n",
    "        page_num = p +1\n",
    "        query_filter = 'Votes'\n",
    "        url = f'{base_url}{tag}?tab={query_filter}&page={page_num}&pagesize={pagesize}'\n",
    "        datas += extract_data_from_url(url)\n",
    "        time.sleep(1.2)\n",
    "    return datas"
   ]
  },
  {
   "cell_type": "code",
   "execution_count": 128,
   "id": "8f039177",
   "metadata": {},
   "outputs": [],
   "source": [
    "datas = scrape_tag(tag='python')"
   ]
  },
  {
   "cell_type": "code",
   "execution_count": 129,
   "id": "ab9686ab",
   "metadata": {},
   "outputs": [
    {
     "data": {
      "text/plain": [
       "2500"
      ]
     },
     "execution_count": 129,
     "metadata": {},
     "output_type": "execute_result"
    }
   ],
   "source": [
    "len(datas)"
   ]
  },
  {
   "cell_type": "code",
   "execution_count": 130,
   "id": "1ad3e83c",
   "metadata": {},
   "outputs": [
    {
     "data": {
      "text/html": [
       "<div>\n",
       "<style scoped>\n",
       "    .dataframe tbody tr th:only-of-type {\n",
       "        vertical-align: middle;\n",
       "    }\n",
       "\n",
       "    .dataframe tbody tr th {\n",
       "        vertical-align: top;\n",
       "    }\n",
       "\n",
       "    .dataframe thead th {\n",
       "        text-align: right;\n",
       "    }\n",
       "</style>\n",
       "<table border=\"1\" class=\"dataframe\">\n",
       "  <thead>\n",
       "    <tr style=\"text-align: right;\">\n",
       "      <th></th>\n",
       "      <th>question</th>\n",
       "      <th>votes</th>\n",
       "      <th>tags</th>\n",
       "    </tr>\n",
       "  </thead>\n",
       "  <tbody>\n",
       "    <tr>\n",
       "      <th>0</th>\n",
       "      <td>What does the \"yield\" keyword do?</td>\n",
       "      <td>12447</td>\n",
       "      <td>python iterator generator</td>\n",
       "    </tr>\n",
       "    <tr>\n",
       "      <th>1</th>\n",
       "      <td>What does if __name__ == \"__main__\": do?</td>\n",
       "      <td>7867</td>\n",
       "      <td>python namespaces program-entry-point python-m...</td>\n",
       "    </tr>\n",
       "    <tr>\n",
       "      <th>2</th>\n",
       "      <td>Does Python have a ternary conditional operator?</td>\n",
       "      <td>7586</td>\n",
       "      <td>python operators conditional-operator</td>\n",
       "    </tr>\n",
       "    <tr>\n",
       "      <th>3</th>\n",
       "      <td>What are metaclasses in Python?</td>\n",
       "      <td>7074</td>\n",
       "      <td>python oop metaclass python-class python-datam...</td>\n",
       "    </tr>\n",
       "    <tr>\n",
       "      <th>4</th>\n",
       "      <td>How do I check whether a file exists without e...</td>\n",
       "      <td>6861</td>\n",
       "      <td>python file file-exists</td>\n",
       "    </tr>\n",
       "  </tbody>\n",
       "</table>\n",
       "</div>"
      ],
      "text/plain": [
       "                                            question  votes  \\\n",
       "0                  What does the \"yield\" keyword do?  12447   \n",
       "1           What does if __name__ == \"__main__\": do?   7867   \n",
       "2   Does Python have a ternary conditional operator?   7586   \n",
       "3                    What are metaclasses in Python?   7074   \n",
       "4  How do I check whether a file exists without e...   6861   \n",
       "\n",
       "                                                tags  \n",
       "0                          python iterator generator  \n",
       "1  python namespaces program-entry-point python-m...  \n",
       "2              python operators conditional-operator  \n",
       "3  python oop metaclass python-class python-datam...  \n",
       "4                            python file file-exists  "
      ]
     },
     "execution_count": 130,
     "metadata": {},
     "output_type": "execute_result"
    }
   ],
   "source": [
    "df = pd.DataFrame(datas)\n",
    "df.head()"
   ]
  },
  {
   "cell_type": "code",
   "execution_count": 131,
   "id": "a726ca2c",
   "metadata": {},
   "outputs": [
    {
     "data": {
      "text/plain": [
       "(2500, 3)"
      ]
     },
     "execution_count": 131,
     "metadata": {},
     "output_type": "execute_result"
    }
   ],
   "source": [
    "df.shape"
   ]
  },
  {
   "cell_type": "code",
   "execution_count": 132,
   "id": "310b49e4",
   "metadata": {},
   "outputs": [],
   "source": [
    "df.to_csv('python.csv', index=False)"
   ]
  },
  {
   "cell_type": "code",
   "execution_count": null,
   "id": "a2dadf27",
   "metadata": {},
   "outputs": [],
   "source": []
  }
 ],
 "metadata": {
  "kernelspec": {
   "display_name": "Day22-OUpJucuq",
   "language": "python",
   "name": "python3"
  },
  "language_info": {
   "codemirror_mode": {
    "name": "ipython",
    "version": 3
   },
   "file_extension": ".py",
   "mimetype": "text/x-python",
   "name": "python",
   "nbconvert_exporter": "python",
   "pygments_lexer": "ipython3",
   "version": "3.10.8"
  },
  "vscode": {
   "interpreter": {
    "hash": "e7df1ea7f948b4831d0113e80a506b2bf68e41215370a6c9fcb793c7b90d3717"
   }
  }
 },
 "nbformat": 4,
 "nbformat_minor": 5
}
